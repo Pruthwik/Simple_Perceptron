{
 "cells": [
  {
   "cell_type": "code",
   "execution_count": 1,
   "metadata": {},
   "outputs": [],
   "source": [
    "from random import random"
   ]
  },
  {
   "cell_type": "code",
   "execution_count": 2,
   "metadata": {},
   "outputs": [
    {
     "data": {
      "text/plain": [
       "0.23347707130355588"
      ]
     },
     "execution_count": 2,
     "metadata": {},
     "output_type": "execute_result"
    }
   ],
   "source": [
    "random()"
   ]
  },
  {
   "cell_type": "code",
   "execution_count": 3,
   "metadata": {},
   "outputs": [],
   "source": [
    "input_shape = 3"
   ]
  },
  {
   "cell_type": "code",
   "execution_count": 4,
   "metadata": {},
   "outputs": [],
   "source": [
    "inputs = [(0, 0), (0, 1), (1, 0), (1, 1)]"
   ]
  },
  {
   "cell_type": "code",
   "execution_count": 5,
   "metadata": {},
   "outputs": [],
   "source": [
    "def augment_inputs(inputs):\n",
    "    return [(1, x[0], x[1]) for x in inputs]"
   ]
  },
  {
   "cell_type": "code",
   "execution_count": 6,
   "metadata": {},
   "outputs": [
    {
     "data": {
      "text/plain": [
       "[(1, 0, 0), (1, 0, 1), (1, 1, 0), (1, 1, 1)]"
      ]
     },
     "execution_count": 6,
     "metadata": {},
     "output_type": "execute_result"
    }
   ],
   "source": [
    "augment_inputs(inputs)"
   ]
  },
  {
   "cell_type": "code",
   "execution_count": 7,
   "metadata": {},
   "outputs": [],
   "source": [
    "def initialize_weights(input_shape):\n",
    "    return [random() for i in range(input_shape)]"
   ]
  },
  {
   "cell_type": "code",
   "execution_count": 28,
   "metadata": {},
   "outputs": [],
   "source": [
    "W = initialize_weights(input_shape)"
   ]
  },
  {
   "cell_type": "code",
   "execution_count": 9,
   "metadata": {},
   "outputs": [
    {
     "data": {
      "text/plain": [
       "[0.38255996279975213, 0.7231961508931598, 0.8003374967990095]"
      ]
     },
     "execution_count": 9,
     "metadata": {},
     "output_type": "execute_result"
    }
   ],
   "source": [
    "W"
   ]
  },
  {
   "cell_type": "code",
   "execution_count": 29,
   "metadata": {},
   "outputs": [],
   "source": [
    "classes = [0, 0, 0, 1]\n",
    "import numpy as np\n",
    "W = np.array(W)"
   ]
  },
  {
   "cell_type": "code",
   "execution_count": 30,
   "metadata": {},
   "outputs": [],
   "source": [
    "def simple_perceptron(X, W, classes, itr=1):\n",
    "    print(X, W)\n",
    "    for i in range(itr):\n",
    "        sat = list()\n",
    "        for ind, x in enumerate(X):\n",
    "            x = np.array(x)\n",
    "            if W.dot(x) <= 0 and classes[ind] == 1:\n",
    "                W += x\n",
    "                sat.append(False)\n",
    "            elif W.dot(x) > 0 and classes[ind] == 0:\n",
    "                W -= x\n",
    "                sat.append(False)\n",
    "            else:\n",
    "                sat.append(True)\n",
    "            print(W.dot(x), classes[ind], ind)\n",
    "        if np.all(sat):\n",
    "            print('i=', i)\n",
    "            return W\n",
    "    return W"
   ]
  },
  {
   "cell_type": "code",
   "execution_count": 31,
   "metadata": {},
   "outputs": [
    {
     "name": "stdout",
     "output_type": "stream",
     "text": [
      "[(1, 0, 0), (1, 0, 1), (1, 1, 0), (1, 1, 1)] [0.15372991 0.04410369 0.08658017]\n",
      "-0.846270090003882 0 0\n",
      "-0.7596899244894842 0 1\n",
      "-0.802166396711384 0 2\n",
      "2.284413768803014 1 3\n",
      "-0.846270090003882 0 0\n",
      "-1.7596899244894841 0 1\n",
      "-0.8021663967113841 0 2\n",
      "2.284413768803014 1 3\n",
      "-0.846270090003882 0 0\n",
      "-1.7596899244894841 0 1\n",
      "-1.8021663967113843 0 2\n",
      "1.2844137688030135 1 3\n",
      "-1.8462700900038822 0 0\n",
      "-0.7596899244894844 0 1\n",
      "-1.8021663967113843 0 2\n",
      "2.2844137688030135 1 3\n",
      "-1.8462700900038822 0 0\n",
      "-1.7596899244894844 0 1\n",
      "-0.8021663967113843 0 2\n",
      "0.2844137688030135 1 3\n",
      "-2.846270090003882 0 0\n",
      "-1.7596899244894844 0 1\n",
      "-0.8021663967113843 0 2\n",
      "0.2844137688030135 1 3\n",
      "i= 5\n"
     ]
    }
   ],
   "source": [
    "augmented_inputs = augment_inputs(inputs)\n",
    "final_W = simple_perceptron(augmented_inputs, W, classes, 10)"
   ]
  },
  {
   "cell_type": "code",
   "execution_count": 21,
   "metadata": {},
   "outputs": [
    {
     "data": {
      "text/plain": [
       "array([-3.61744004,  2.72319615,  1.8003375 ])"
      ]
     },
     "execution_count": 21,
     "metadata": {},
     "output_type": "execute_result"
    }
   ],
   "source": [
    "final_W"
   ]
  },
  {
   "cell_type": "code",
   "execution_count": null,
   "metadata": {},
   "outputs": [],
   "source": []
  }
 ],
 "metadata": {
  "kernelspec": {
   "display_name": "Python 3",
   "language": "python",
   "name": "python3"
  },
  "language_info": {
   "codemirror_mode": {
    "name": "ipython",
    "version": 3
   },
   "file_extension": ".py",
   "mimetype": "text/x-python",
   "name": "python",
   "nbconvert_exporter": "python",
   "pygments_lexer": "ipython3",
   "version": "3.8.5"
  }
 },
 "nbformat": 4,
 "nbformat_minor": 4
}
